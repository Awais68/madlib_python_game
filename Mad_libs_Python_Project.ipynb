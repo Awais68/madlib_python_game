{
  "nbformat": 4,
  "nbformat_minor": 0,
  "metadata": {
    "colab": {
      "provenance": [],
      "authorship_tag": "ABX9TyOULoLlhhf7kN+bXC+v42EX",
      "include_colab_link": true
    },
    "kernelspec": {
      "name": "python3",
      "display_name": "Python 3"
    },
    "language_info": {
      "name": "python"
    }
  },
  "cells": [
    {
      "cell_type": "markdown",
      "metadata": {
        "id": "view-in-github",
        "colab_type": "text"
      },
      "source": [
        "<a href=\"https://colab.research.google.com/github/Awais68/madlib_python_game/blob/main/Mad_libs_Python_Project.ipynb\" target=\"_parent\"><img src=\"https://colab.research.google.com/assets/colab-badge.svg\" alt=\"Open In Colab\"/></a>"
      ]
    },
    {
      "cell_type": "markdown",
      "source": [
        "**\n",
        "AI-101 students will complete these project on their own and submit the projects in the following form:**"
      ],
      "metadata": {
        "id": "0FYWhDlTqgc1"
      }
    },
    {
      "cell_type": "markdown",
      "source": [
        "**Project 1: Mad libs Python Project**\n",
        "\n"
      ],
      "metadata": {
        "id": "gk_isVkRqLb8"
      }
    },
    {
      "cell_type": "code",
      "execution_count": null,
      "metadata": {
        "colab": {
          "base_uri": "https://localhost:8080/"
        },
        "id": "0GRW4-Xyawh9",
        "outputId": "c07e972e-0da1-4597-f420-594330e110d5"
      },
      "outputs": [
        {
          "output_type": "stream",
          "name": "stdout",
          "text": [
            "Well Come Mad lib Game ...! \n",
            "\n",
            "Adjective: charming\n",
            "Verb: coding\n",
            "Verb: practing\n",
            "Famous person: Ameen Alam\n",
            "\n",
            " Python programming is so charming! \n",
            "\t It makes me so excited all the time because \n",
            "\t\t I love to coding. \n",
            "\t\t\t Stay up-dated and practing like our Teacher Ameen Alam!\n"
          ]
        }
      ],
      "source": [
        "\n",
        "print(\"Well Come Mad lib Game ...! \\n\")\n",
        "\n",
        "adj = input(\"Adjective: \")\n",
        "verb1 = input(\"Verb: \")\n",
        "verb2 = input(\"Verb: \")\n",
        "famous_person = input(\"Famous person: \")\n",
        "\n",
        "madlib = f\"\\n Python programming is so {adj}! \\n\\t It makes me so excited all the time because \\\n",
        "\\n\\t\\t I love to {verb1}. \\n\\t\\t\\t Stay up-dated and {verb2} like our Teacher {famous_person}!\"\n",
        "\n",
        "\n",
        "print(madlib)"
      ]
    },
    {
      "cell_type": "code",
      "source": [],
      "metadata": {
        "id": "ZzARN96_btWe"
      },
      "execution_count": null,
      "outputs": []
    }
  ]
}